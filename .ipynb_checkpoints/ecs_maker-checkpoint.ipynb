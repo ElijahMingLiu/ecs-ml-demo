{
 "cells": [
  {
   "cell_type": "markdown",
   "id": "eaf56339",
   "metadata": {},
   "source": [
    "## 本地构建镜像并推导ECR"
   ]
  },
  {
   "cell_type": "code",
   "execution_count": null,
   "id": "a8d417fe",
   "metadata": {},
   "outputs": [],
   "source": [
    "from utils import *"
   ]
  },
  {
   "cell_type": "code",
   "execution_count": null,
   "id": "dfab970b",
   "metadata": {
    "scrolled": true
   },
   "outputs": [],
   "source": [
    "image = build_and_push(tag='ml-ecs-demo', dockerfile_path='.', ecr_repo_name='ml-ecs-demo')"
   ]
  },
  {
   "cell_type": "code",
   "execution_count": null,
   "id": "fa88898e",
   "metadata": {},
   "outputs": [],
   "source": [
    "image"
   ]
  },
  {
   "cell_type": "markdown",
   "id": "71a5a78e",
   "metadata": {},
   "source": [
    "## 上传代码至s3"
   ]
  },
  {
   "cell_type": "code",
   "execution_count": null,
   "id": "b8cbaf22",
   "metadata": {},
   "outputs": [],
   "source": [
    "sagemaker_session = sagemaker.session.Session()\n",
    "bucket = sagemaker_session.default_bucket()\n",
    "\n",
    "prefix='ecs-demo/train'"
   ]
  },
  {
   "cell_type": "code",
   "execution_count": null,
   "id": "3a8eb6ab",
   "metadata": {},
   "outputs": [],
   "source": [
    "code_files = get_file_path('./train_code')\n",
    "\n",
    "# 压缩代码文件为tar.gz\n",
    "create_tar_file(code_files, \"sourcedir.tar.gz\")\n",
    "# 代码上传到s3上路径\n",
    "sources = sagemaker_session.upload_data(\"sourcedir.tar.gz\", bucket, os.path.join(prefix, 'code'))\n",
    "sources"
   ]
  },
  {
   "cell_type": "code",
   "execution_count": null,
   "id": "b5e4e42d",
   "metadata": {},
   "outputs": [],
   "source": [
    "train_path =  sagemaker_session.upload_data(\"dataset/train.csv\", bucket, os.path.join(prefix, 'data'))\n",
    "train_path"
   ]
  },
  {
   "cell_type": "code",
   "execution_count": null,
   "id": "ff42973f",
   "metadata": {},
   "outputs": [],
   "source": [
    "model_path = 's3://{}/{}/model/'.format(bucket, prefix)\n",
    "model_path"
   ]
  },
  {
   "cell_type": "markdown",
   "id": "31f9a753",
   "metadata": {},
   "source": [
    "# 创建 Task Definition\n",
    "\n",
    "ECS(Elastic Container Services) 是 AWS 上的服务，可以运行Docker。\n",
    "\n",
    "ECS的运行方式如下\n",
    "\n",
    "1. 创建TaskDefinition：指定cpu，内存和ecr镜像地址，执行的命令，可以跑多个container\n",
    "2. 在运行时，通过boto3调用时，选定一个集群，并设置安全组和启动方式\n",
    "\n",
    "\n",
    "基于无服务的ECS运行需要下列条件：\n",
    "\n",
    "- 启动方式为Fargate\n",
    "- 运行时要选定一个Cluster，需要提前创建\n",
    "- 有一个CloudWatch Logs的log group，用于存储运行log\n",
    "  - 如果是手动在console上创建TaskDefinition，会自动创建log group\n",
    "  - 如果是通过boto3创建的，需要手动创建log group\n",
    "\n",
    "所以，通过boto3创建task definition，需要\n",
    "\n",
    "- 创建 CloudWatch log group\n",
    "- 创建 Task Definition\n",
    "- 启动 Task Definition\n",
    "\n",
    "## 创建log group\n",
    "\n",
    "需要设定的参数：\n",
    "\n",
    "- `log_group_name`：CloudWatch上的log group名字，用于创建log group\n"
   ]
  },
  {
   "cell_type": "code",
   "execution_count": null,
   "id": "8d0a0076",
   "metadata": {},
   "outputs": [],
   "source": [
    "import boto3\n",
    "import botocore\n",
    "log_group_name = '/ecs/ml-ecs-demo' # CloudWatch上的log group名字，用于创建log group\n",
    "client = boto3.client('logs')\n",
    "\n",
    "try:\n",
    "    response = client.create_log_group(\n",
    "        logGroupName=log_group_name,\n",
    "    )\n",
    "    print(response)\n",
    "except Exception as e:\n",
    "    if 'ResourceAlreadyExistsException' in str(e):\n",
    "        print('Log Group already existed')\n",
    "    else:\n",
    "        print(e)"
   ]
  },
  {
   "cell_type": "markdown",
   "id": "68ce371f",
   "metadata": {},
   "source": [
    "## 创建Task Definition\n",
    "\n",
    "接下来，开始创建 Task Definition：\n",
    "\n",
    "需要指定下列参数：\n",
    "\n",
    "- `task_name`：TaskDefinition的名字\n",
    "- `log_group_name`：Task log地址\n",
    "- `stream_prefix`：log group流的prefix\n",
    "- `cmd`：入口命令，Docker实际执行的命令，是一个list，把空格分割用list代替，例如`echo 123`为`['echo', '123']`\n",
    "- `image`：镜像在ECR上的路径\n",
    "- `task_role_arn`和`execution_role_arn`：区别暂时不清楚，先用同一个，要给AmazonECSTaskExecutionRolePolicy\n",
    "- `cpu`：cpu数，每1024为1核，最高4核，必须是字符串\n",
    "- `memory`：memory 30720为30G，最高30G，必须是字符串"
   ]
  },
  {
   "cell_type": "code",
   "execution_count": null,
   "id": "1af4e39e",
   "metadata": {},
   "outputs": [],
   "source": [
    "import boto3\n",
    "\n",
    "task_name = 'ml-ecs-demo' # TaskDefinition的名字\n",
    "\n",
    "log_group_name = '/ecs/ml-ecs-demo' # CloudWatch上的log group名字，用于创建log group\n",
    "region = 'cn-northwest-1' # log group所在的region\n",
    "stream_prefix = 'ecs' # log group流的prefix\n",
    "\n",
    "cmd = ['./cmd.sh', sources, train_path, model_path ] # CMD命令,Docker实际执行的命令\n",
    "image = image # 镜像在ECR上的路径\n",
    "\n",
    "task_role_arn = 'arn:aws-cn:iam::xxx:role/xxx' # Task Role，需要拥有AmazonECSTaskExecutionRolePolicy\n",
    "execution_role_arn = 'arn:aws-cn:iam::xxx:role/xxx' # Task Role，需要拥有AmazonECSTaskExecutionRolePolicy\n",
    "\n",
    "cpu = str(4096) # cpu数，每1024为1核，最高4核\n",
    "memory = str(30720) # memory 30720为30G，最高30G\n",
    "\n",
    "client = boto3.client('ecs')\n",
    "\n",
    "response = client.register_task_definition(\n",
    "    family=task_name,\n",
    "    taskRoleArn=task_role_arn,\n",
    "    executionRoleArn=execution_role_arn,\n",
    "    networkMode='awsvpc',\n",
    "    containerDefinitions=[\n",
    "        {\n",
    "            'name': 'container1',\n",
    "            'image': image,\n",
    "\n",
    "            'command': cmd,\n",
    "            \n",
    "            'logConfiguration': {\n",
    "                'logDriver': 'awslogs',\n",
    "                'options': {\n",
    "                    'awslogs-region' : region,\n",
    "                    'awslogs-group' : log_group_name,\n",
    "                    'awslogs-stream-prefix': stream_prefix\n",
    "                }\n",
    "            },\n",
    "\n",
    "        }, \n",
    "    ], \n",
    "    requiresCompatibilities=[\n",
    "        'FARGATE',\n",
    "    ],\n",
    "    cpu=cpu,\n",
    "    memory=memory\n",
    ")"
   ]
  },
  {
   "cell_type": "markdown",
   "id": "150d1df8",
   "metadata": {},
   "source": [
    "# 创建ECS Cluster"
   ]
  },
  {
   "cell_type": "code",
   "execution_count": null,
   "id": "ffd1d793",
   "metadata": {},
   "outputs": [],
   "source": [
    "import boto3\n",
    "\n",
    "client = boto3.client('ecs')\n",
    "\n",
    "response = client.create_cluster(\n",
    "    clusterName='clutser-name',\n",
    "    configuration={\n",
    "        'executeCommandConfiguration': {\n",
    "            'logging': 'DEFAULT',\n",
    "        }\n",
    "    },\n",
    "    capacityProviders=[\n",
    "        'FARGATE_SPOT',\n",
    "    ]\n",
    ")"
   ]
  },
  {
   "cell_type": "markdown",
   "id": "f9697146",
   "metadata": {},
   "source": [
    "# 创建Lambda启动Task Definition"
   ]
  },
  {
   "cell_type": "code",
   "execution_count": null,
   "id": "98b83441",
   "metadata": {},
   "outputs": [],
   "source": [
    "!mkdir lambda_train"
   ]
  },
  {
   "cell_type": "code",
   "execution_count": null,
   "id": "4307a710",
   "metadata": {},
   "outputs": [],
   "source": [
    "%%writefile lambda_train/lambda_function.py\n",
    "\n",
    "import json\n",
    "import boto3\n",
    "\n",
    "def lambda_handler(event, context):\n",
    "    client = boto3.client('ecs')\n",
    "    \n",
    "    cluster = 'cluster-name'\n",
    "    task_name = 'ml-ecs-demo'\n",
    "    subnets = ['subnet-xxx']\n",
    "    security_groups = ['sg-xxx']\n",
    "    \n",
    "    \n",
    "    response = client.run_task(\n",
    "          cluster=cluster,\n",
    "          taskDefinition=task_name,\n",
    "          count=1,\n",
    "          launchType='FARGATE',\n",
    "          networkConfiguration={\n",
    "              'awsvpcConfiguration': {\n",
    "                  'subnets': subnets,\n",
    "                  'securityGroups': security_groups,\n",
    "                  'assignPublicIp': 'ENABLED'\n",
    "              }\n",
    "          }\n",
    "    )"
   ]
  },
  {
   "cell_type": "code",
   "execution_count": null,
   "id": "f538fc2f",
   "metadata": {},
   "outputs": [],
   "source": [
    "%%sh\n",
    "cd lambda_train\n",
    "\n",
    "zip -r9 function.zip lambda_function.py\n",
    "\n",
    "# aws lambda delete-function --function-name $lambda_function_name\n",
    "\n",
    "aws lambda create-function --function-name ml-ecs-demo \\\n",
    "    --runtime python3.8 \\\n",
    "    --zip-file fileb://function.zip \\\n",
    "    --handler lambda_function.lambda_handler \\\n",
    "    --role arn:aws-cn:iam::xxx:role/xxx-lambda-role \\\n",
    "    --timeout 600"
   ]
  }
 ],
 "metadata": {
  "kernelspec": {
   "display_name": "conda_python3",
   "language": "python",
   "name": "conda_python3"
  },
  "language_info": {
   "codemirror_mode": {
    "name": "ipython",
    "version": 3
   },
   "file_extension": ".py",
   "mimetype": "text/x-python",
   "name": "python",
   "nbconvert_exporter": "python",
   "pygments_lexer": "ipython3",
   "version": "3.6.13"
  }
 },
 "nbformat": 4,
 "nbformat_minor": 5
}
